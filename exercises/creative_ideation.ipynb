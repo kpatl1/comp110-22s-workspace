{
 "cells": [
  {
   "cell_type": "markdown",
   "metadata": {},
   "source": [
    "# Creative ideation (Exercise 08) - Analysis for Continous Improvement for COMP 110 Spring 2022\n",
    " \n",
    " This notebook contains the anaylsis for the continious improvement of COMP 110 at the University of North Carolina at Chapel Hill. Regarding its stakeholders, the university, students enrolled, instructional staff, and the societal workforce, this analysis will form a process to create value beyond what is already provided with the current form of the course. This process will be done with the data wrangling of anonyomized survey results which provides feedback from nearly every current 110 student."
   ]
  },
  {
   "cell_type": "markdown",
   "metadata": {},
   "source": [
    "## Creative Ideation - Part 1\n",
    "With regards to each stakeholder in the course, there can be multiple ideas instated to create added value. \n",
    "\n",
    "1. Stakeholder: Students Enrolled\n",
    "   \n",
    "    Many implications of the course come from its hybrid format, as compared to a traditional course. Most STEM courses at UNC and other insitutions do not follow this format and could potentially pose a disadvantage to individuals with learning disabilities, struggling work-ethics, and lack-of-focus. In order to combat this, and for the stakeholder the course is actually consumed by, this idea propose that there be a reversion to the original format of the course -- fully in-person and synchronous. \n",
    "\n",
    "2. Stakeholder: Instructional Staff\n",
    "    \n",
    "    With an overcrouded department comes overworked staff. This idea proposes that as an another requirement to join the major, the summer or winter break previous to taking 110, there be 5-10 hour long precourse work utilizing exceptionally well produced pre-made videos from Kris Jordan to learn the basics of programming and mostly covering the first few weeks of the 110 curriculum. This will help students know if computer science is the field for them, as well as allowing students to have a grasp on the course if they have no prior-experience or need to form a stronger base. This will also allow for the semester sessions of the course to focus more on strenghtening the fundamentals of programming while also being able to go more in-depth with some more advanced topics. This idea not only allows instructional staff to have an easier time working with students with more individualized problems, but can also keep more motivated students to pursue the course. \n",
    "\n",
    "3. Stakeholder: Students Enrolled\n",
    "    \n",
    "    This idea breaks the idea of 110 being a course for students of all majors. Although, it is a wonderful design to the course currently, there are extremely high numbers of students attempting to enroll into the course for their major. While 116 is also offered for other STEM specific majors, students are also taking 110 because they want to see if Computer Science is a field interesting to them or as an elective. This idea turns 110 into a more Computer Science major/minor oriented course that is open to students interested in pursuing the field or is already a declared major/minor. A new course, COMP 105, will become a course similar to 110 but intended for students not wanting to pursue Comptuer Science as a dedicated field. This opens up 110 to have seats for all intended majors and allows 105 to be a course allowing students that are not working towards a Computer Science degree to gain programming experience and could potentially replace the 110 credit for their major -- ex. Applied Mathematics. This allows for more versatility for students in choosing a field as well as crafting a better learning experience for them. \n",
    "\n",
    "4. Stakeholder: Societal Workforce\n",
    "   \n",
    "    As previouslly mentioned, UNC remains an institution regarded with high academic standing nationwide. Students planning on entering the workforce want to be equipped with a strong toolkit to succeed in any role. To benefit the current workforce, UNC can work to strenghten its current Comptuer Science program to be better equipped to build stronger students and programmers. One of the main accenuations from companies today, is the value of students with more personal projects. To craft this into improving COMP 110, the curriculum can be geared to emphazise the importance of building more personally branded ideas and crafting them into assignments testing the understanding of in-class concepts. Therefore, more open-ended assignments can allow students to understand the value of personal projects and will develop more creative and versatile students for the workforce.\n",
    "\n",
    "5. Stakeholder: Academic Institution\n",
    "   \n",
    "    UNC continues to reign as a \"Public Ivy\" and holds high regard to its academic standards and rigor. With increasing applications continuing every cycle, acceptance rates continue to drop while departments still remain overcrowded and underrated. One of these departments is the Computer Science program, and though there are measures now put into place to help avoid this overcrowding, students tend to respond negatively to ideas such as an application to the Major. This idea propose the university allocate more funding to the Computer Science program to allot more spots for interested and motiviated students into 110, and strengthen the nationwide ranking of the program itself. Especially with the resources and videos created, new students should have the resources to succeed as a student in 110 but also as a major if they decide to pursue that path. \n",
    "\n"
   ]
  },
  {
   "cell_type": "markdown",
   "metadata": {},
   "source": [
    "## Creative Ideation: Data Analysis - Part 2 \n",
    "\n",
    "Although all of the previous ideas can be supported with the correct data, there is only a limited amount of information that can be grasped from the survey results. Therefore, in picking the best idea that can be supported with the given information, idea number 1 will be the most beneficial with analysis coming from `hours_online_social`, `hours_online_work`, `sync_pref`, `all_sync`, `flipped_class`, `ls_effective`, and `no_hybrid`. Other ideas such as number 2 can also be benefical, however, data like how much work students do over break, time over break students have, and out of class work effectivity students have is required. This can be gained from another survey, however. In ideas like idea number 5 one would need information about current program funding, professor recruitment, payroll, and other financial data-points. For future analysis, this can be gathered from unversity department heads and the cashier."
   ]
  },
  {
   "cell_type": "markdown",
   "metadata": {},
   "source": [
    "# Analysis: Part 1\n",
    "\n"
   ]
  }
 ],
 "metadata": {
  "interpreter": {
   "hash": "aee8b7b246df8f9039afb4144a1f6fd8d2ca17a180786b69acc140d282b71a49"
  },
  "kernelspec": {
   "display_name": "Python 3.10.1 64-bit",
   "language": "python",
   "name": "python3"
  },
  "language_info": {
   "name": "python",
   "version": "3.10.1"
  },
  "orig_nbformat": 4
 },
 "nbformat": 4,
 "nbformat_minor": 2
}
