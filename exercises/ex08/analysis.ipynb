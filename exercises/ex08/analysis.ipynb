{
 "cells": [
  {
   "cell_type": "markdown",
   "metadata": {},
   "source": [
    "# Analysis for Continuous Improvement\n",
    "\n",
    "Author Name: Kishan Patel\n",
    "\n",
    "9-digit PID: 730477803\n",
    "\n",
    "Continuous Improvement embraces a belief there is _always room to make things better_. It is a mindset and process we value and practice in this course. In this assignment, you are able to practice continuous improvement and contribute to the design ideas of the course.\n",
    "\n",
    "## Brainstorming Ideas\n",
    "\n",
    "Reflect on your personal experiences and observations in COMP110 and **brainstorm modifications to the course that _create value_ beyond its current design**. When brainstorming, try not to be critical of the ideas you come up with regarding scale, stakeholders impacted, or for any other reasons. In the markdown cell below, brainstorm 3 to 5 ideas you think would create value for you.\n",
    "\n",
    "Each brainstormed idea should state a. the suggested change or addition, b. what the expected value created, and c. which specific stakeholders would benefit.  If helpful, expand on the following template \"The course should (state idea here) because it will (state value created here) for (insert stakeholders here).\"\n",
    "\n",
    "Example A: \"The course should use only examples from psychology experiments because it will be more relevant for students who are psychology majors.\"\n",
    "\n",
    "Example B: \"The course should not have post-lesson questions because they are not useful for most students in the class.\""
   ]
  },
  {
   "cell_type": "markdown",
   "metadata": {},
   "source": [
    "### Part 1. Creative Ideation\n",
    "\n",
    "1. Stakeholder: Students Enrolled\n",
    "   \n",
    "    Many implications of the course come from its hybrid format, as compared to a traditional course. Most STEM courses at UNC and other insitutions do not follow this format and could potentially pose a disadvantage to individuals with learning disabilities, struggling work-ethics, and lack-of-focus. In order to combat this, and for the stakeholder the course is actually consumed by, this idea propose that there be a reversion to the original format of the course -- fully in-person and synchronous. \n",
    "\n",
    "2. Stakeholder: Instructional Staff\n",
    "    \n",
    "    With an overcrouded department comes overworked staff. This idea proposes that as an another requirement to join the major, the summer or winter break previous to taking 110, there be 5-10 hour long precourse work utilizing exceptionally well produced pre-made videos from Kris Jordan to learn the basics of programming and mostly covering the first few weeks of the 110 curriculum. This will help students know if computer science is the field for them, as well as allowing students to have a grasp on the course if they have no prior-experience or need to form a stronger base. This will also allow for the semester sessions of the course to focus more on strenghtening the fundamentals of programming while also being able to go more in-depth with some more advanced topics. This idea not only allows instructional staff to have an easier time working with students with more individualized problems, but can also keep more motivated students to pursue the course. \n",
    "\n",
    "3. Stakeholder: Students Enrolled\n",
    "    \n",
    "    This idea breaks the idea of 110 being a course for students of all majors. Although, it is a wonderful design to the course currently, there are extremely high numbers of students attempting to enroll into the course for their major. While 116 is also offered for other STEM specific majors, students are also taking 110 because they want to see if Computer Science is a field interesting to them or as an elective. This idea turns 110 into a more Computer Science major/minor oriented course that is open to students interested in pursuing the field or is already a declared major/minor. A new course, COMP 105, will become a course similar to 110 but intended for students not wanting to pursue Comptuer Science as a dedicated field. This opens up 110 to have seats for all intended majors and allows 105 to be a course allowing students that are not working towards a Computer Science degree to gain programming experience and could potentially replace the 110 credit for their major -- ex. Applied Mathematics. This allows for more versatility for students in choosing a field as well as crafting a better learning experience for them. \n",
    "\n",
    "4. Stakeholder: Societal Workforce\n",
    "   \n",
    "    As previouslly mentioned, UNC remains an institution regarded with high academic standing nationwide. Students planning on entering the workforce want to be equipped with a strong toolkit to succeed in any role. To benefit the current workforce, UNC can work to strenghten its current Comptuer Science program to be better equipped to build stronger students and programmers. One of the main accenuations from companies today, is the value of students with more personal projects. To craft this into improving COMP 110, the curriculum can be geared to emphazise the importance of building more personally branded ideas and crafting them into assignments testing the understanding of in-class concepts. Therefore, more open-ended assignments can allow students to understand the value of personal projects and will develop more creative and versatile students for the workforce.\n",
    "\n",
    "5. Stakeholder: Academic Institution\n",
    "   \n",
    "    UNC continues to reign as a \"Public Ivy\" and holds high regard to its academic standards and rigor. With increasing applications continuing every cycle, acceptance rates continue to drop while departments still remain overcrowded and underrated. One of these departments is the Computer Science program, and though there are measures now put into place to help avoid this overcrowding, students tend to respond negatively to ideas such as an application to the Major. This idea propose the university allocate more funding to the Computer Science program to allot more spots for interested and motiviated students into 110, and strengthen the nationwide ranking of the program itself. Especially with the resources and videos created, new students should have the resources to succeed as a student in 110 but also as a major if they decide to pursue that path. "
   ]
  },
  {
   "cell_type": "markdown",
   "metadata": {},
   "source": [
    "## Connecting with Available Data\n",
    "\n",
    "The data you have available for this analysis is limited to the anonymized course survey you and your peers filled out a few weeks ago. The data is found in the `survey.csv` file in this exercise directory. Each row represents an individual survey response. Each column has a description which can be found on the project write-up here: <https://22s.comp110.com/exercises/ex08.html>\n",
    "\n",
    "Review the list of available data and identify which one of your ideas _does not_, or is _least likely to_, have relevant data to support the analysis of your idea to create value. In the box below, identify which of your ideas lacks data and suggest how we might be able to collect this data in the future. One aspect of _continuous improvement_ is trying to avoid \"tunnel vision\" where possible improvements are not considered because there is no data available to analyze it. Identifying new data sources can unlock improvements!"
   ]
  },
  {
   "cell_type": "markdown",
   "metadata": {},
   "source": [
    "### Part 2. Identifying Missing Data\n",
    "\n",
    "Other ideas such as number 2 can also be benefical, however, data like how much work students do over break, time over break students have, and out of class work effectivity students have is required. This can be gained from another survey, however. In ideas like idea number 5 one would need information about current program funding, professor recruitment, payroll, and other financial data-points. For future analysis, this can be gathered from unversity department heads and the cashier."
   ]
  },
  {
   "cell_type": "markdown",
   "metadata": {},
   "source": [
    "## Choosing an Idea to Analyze\n",
    "\n",
    "Consider those of your ideas which _do_ seem likely to have relevant data to analyze. If none of your ideas do, spend a few minutes and brainstorm another idea or two with the added connection of data available on hand and add those ideas to your brainstormed ideas list.\n",
    "\n",
    "Select the one idea which you believe is _most valuable_ to analyze relative to the others and has data to support the analysis of. In the markdown cell for Part 3 below, identify the idea you are exploring and articulate why you believe it is most valuable (e.g. widest impact, biggest opportunity for improvement, simplest change for significant improvement, and so on)."
   ]
  },
  {
   "cell_type": "markdown",
   "metadata": {},
   "source": [
    "### Part 3. Choosing Your Analysis\n",
    "\n",
    "Although all of the previous ideas can be supported with the correct data, there is only a limited amount of information that can be grasped from the survey results. Therefore, in picking the best idea that can be supported with the given information, idea number 1 will be the most beneficial with analysis coming from multiple data points like, `sync_pref`, `all_sync`, `flipped_class`, and `ls_effective`. This is better than the other ideas because it is the simplest change for a significant improvment. \n"
   ]
  },
  {
   "cell_type": "markdown",
   "metadata": {},
   "source": [
    "## Your Analysis\n",
    "\n",
    "Before you begin analysis, a reminder that we do not expect the data to support everyone's ideas and you can complete this exercise for full credit even if the data does not clearly support your suggestion or even completely refutes it. What we are looking for is a logical attempt to explore the data using the techniques you have learned up until now in a way that _either_ supports, refutes, or does not have a clear result and then to reflect on your findings after the analysis.\n",
    "\n",
    "Using the utility functions you created for the previous exercise, you will continue with your analysis in the following part. Before you begin, refer to the rubric on the technical expectations of this section in the exercise write-up.\n",
    "\n",
    "In this section, you are expected to interleave code and markdown cells such that for each step of your analysis you are starting with an English description of what you are planning to do next in a markdown cell, followed by a Python cell that performs that step of the analysis."
   ]
  },
  {
   "cell_type": "markdown",
   "metadata": {},
   "source": [
    "### Part 4. Analysis\n",
    "\n",
    "We begin by changing some settings in the notebook to automatically reload changes to imported files."
   ]
  },
  {
   "cell_type": "code",
   "execution_count": 1,
   "metadata": {},
   "outputs": [],
   "source": [
    "%reload_ext autoreload\n",
    "%autoreload 2"
   ]
  },
  {
   "cell_type": "markdown",
   "metadata": {},
   "source": [
    "We continue by importing the helper functions from `data_utils`."
   ]
  },
  {
   "cell_type": "code",
   "execution_count": 2,
   "metadata": {},
   "outputs": [],
   "source": [
    "from data_utils import * "
   ]
  },
  {
   "cell_type": "markdown",
   "metadata": {},
   "source": [
    "Next, ... (you take it from here and add additional code and markdown cells to read in the CSV file and process it as needed)"
   ]
  },
  {
   "cell_type": "code",
   "execution_count": 3,
   "metadata": {},
   "outputs": [],
   "source": [
    "SURVEY_DATA_CSV_FILE_PATH: str = \"../../data/survey.csv\""
   ]
  },
  {
   "cell_type": "markdown",
   "metadata": {},
   "source": [
    "#### Initalizing the Data Table Into a Column Oriented Format"
   ]
  },
  {
   "cell_type": "code",
   "execution_count": 4,
   "metadata": {},
   "outputs": [],
   "source": [
    "#from tabulate import tabulate\n",
    "\n",
    "\n",
    "data_in_rows: list[dict[str, str]] = read_csv_rows(SURVEY_DATA_CSV_FILE_PATH)\n",
    "final_table: dict[str, list[str]] = columnar(data_in_rows)\n",
    "\n",
    "\n",
    "#tabulate(final_table, final_table.keys(), 'html')\n",
    "\n"
   ]
  },
  {
   "cell_type": "markdown",
   "metadata": {},
   "source": [
    "#### Start Analysis\n",
    "The first point of analysis comes from looking at the results from `sync_pref` and `all_sync`. In the following analysis, those columns will be selected and also used to find what number of the respondents for those categories would improve from being synchronous and what percentage of them as well."
   ]
  },
  {
   "cell_type": "code",
   "execution_count": 5,
   "metadata": {},
   "outputs": [
    {
     "name": "stdout",
     "output_type": "stream",
     "text": [
      "If fully synchronous classes were reinstated, the COMP 110 experience for 108 students would improve.\n",
      "If fully synchronous classes were reinstated, 122, students would report an increase in performance.\n",
      "17 percent of students would prefer synchronous classes and 20 percent would report an increase of performance in the course if there was synchronous learning every lecture.\n"
     ]
    }
   ],
   "source": [
    "wanted_columns: list[str] = [\"sync_perf\", \"all_sync\", \"row\"]\n",
    "wanted_keys_for_thresh: list[str] = [\"sync_perf\", \"all_sync\"]\n",
    "sync_learning_table: dict[str, list[str]] = select(final_table, wanted_columns)\n",
    "agree_sync_learning: tuple[dict[str, list[int]], list[int]] = above_threshold(sync_learning_table, wanted_keys_for_thresh, 4)\n",
    "num_perf_improve: int = len(agree_sync_learning[0][\"sync_perf\"])\n",
    "num_want_sync: int = len(agree_sync_learning[0][\"all_sync\"])\n",
    "row_values_that_agree: list[int] = agree_sync_learning[1]\n",
    "num_respondents: int = len(sync_learning_table[\"sync_perf\"])\n",
    "percent_want_sync: int = int(round((num_want_sync / num_respondents), 2) * 100)\n",
    "percent_improve_sync: int = int(round((num_perf_improve / num_respondents), 2) * 100)\n",
    "rows_that_agree_all_sync_exclusively: list[int] = above_threshold(select(final_table, [\"all_sync\", 'row']), [\"all_sync\"], 4)[1]\n",
    "\n",
    "\n",
    "\n",
    "\n",
    "\n",
    "print(f\"If fully synchronous classes were reinstated, the COMP 110 experience for {num_want_sync} students would improve.\")\n",
    "print(f\"If fully synchronous classes were reinstated, {num_perf_improve}, students would report an increase in performance.\")\n",
    "print(f\"{percent_want_sync} percent of students would prefer synchronous classes and {percent_improve_sync} percent would report an increase of performance in the course if there was synchronous learning every lecture.\")"
   ]
  },
  {
   "cell_type": "markdown",
   "metadata": {},
   "source": [
    "The next point of analysis is of the students that are for synchronous classes, how many of them would actually watch supplemental videos on the weekends. Along with how many students, in general, find them helpful. "
   ]
  },
  {
   "cell_type": "code",
   "execution_count": 6,
   "metadata": {},
   "outputs": [
    {
     "name": "stdout",
     "output_type": "stream",
     "text": [
      "Out of the students that want synchronous classes, 62, of them would watch the supplemental videos outside of class.\n",
      "Out of the total respondents, 138 of them would watch the videos outside of class, if Tuesday was mandatory synchronous.\n",
      "Out of the total respondents, 531 think that the videos are effective.\n"
     ]
    }
   ],
   "source": [
    "\n",
    "wanted_columns: list[str] = [\"row\", \"flipped_class\", \"ls_effective\"]\n",
    "wanted_keys_for_thresh: list[str] = [\"flipped_class\", \"ls_effective\"]\n",
    "lesson_vid_table: dict[str, list[str]] = select(final_table, wanted_columns)\n",
    "agree_with_vids: tuple[dict[str, list[int]], list[int]] = above_threshold(lesson_vid_table, wanted_keys_for_thresh, 4)\n",
    "num_would_watch: int = len(agree_with_vids[0][\"flipped_class\"])\n",
    "num_think_vid_effective: int = len(agree_with_vids[0][\"ls_effective\"])\n",
    "rows_would_watch: list[int] = above_threshold(select(final_table, [\"flipped_class\", 'row']), [\"flipped_class\"], 4)[1]\n",
    "would_watch_want_sync: list[int] = []\n",
    "\n",
    "for value in rows_that_agree_all_sync_exclusively:\n",
    "    if value in rows_would_watch:\n",
    "        would_watch_want_sync.append(value)\n",
    "\n",
    "num_would_watch_that_want_sync: int = len(would_watch_want_sync)\n",
    "\n",
    "\n",
    "print(f\"Out of the students that want synchronous classes, {num_would_watch_that_want_sync}, of them would watch the supplemental videos outside of class.\")\n",
    "print(f\"Out of the total respondents, {num_would_watch} of them would watch the videos outside of class, if Tuesday was mandatory synchronous.\")\n",
    "print(f\"Out of the total respondents, {num_think_vid_effective} think that the videos are effective.\")"
   ]
  },
  {
   "cell_type": "markdown",
   "metadata": {},
   "source": [
    "#### Final Visualization of Data using Charts and Tables"
   ]
  },
  {
   "cell_type": "code",
   "execution_count": 8,
   "metadata": {},
   "outputs": [
    {
     "data": {
      "text/html": [
       "<table>\n",
       "<thead>\n",
       "<tr><th>hours_online_work  </th></tr>\n",
       "</thead>\n",
       "<tbody>\n",
       "<tr><td>0 to 2 hours       </td></tr>\n",
       "<tr><td>5 to 10 hours      </td></tr>\n",
       "<tr><td>5 to 10 hours      </td></tr>\n",
       "<tr><td>3 to 5 hours       </td></tr>\n",
       "<tr><td>3 to 5 hours       </td></tr>\n",
       "<tr><td>5 to 10 hours      </td></tr>\n",
       "<tr><td>5 to 10 hours      </td></tr>\n",
       "<tr><td>5 to 10 hours      </td></tr>\n",
       "<tr><td>10+ hours          </td></tr>\n",
       "<tr><td>5 to 10 hours      </td></tr>\n",
       "<tr><td>5 to 10 hours      </td></tr>\n",
       "<tr><td>3 to 5 hours       </td></tr>\n",
       "<tr><td>3 to 5 hours       </td></tr>\n",
       "<tr><td>3 to 5 hours       </td></tr>\n",
       "<tr><td>3 to 5 hours       </td></tr>\n",
       "</tbody>\n",
       "</table>"
      ],
      "text/plain": [
       "'<table>\\n<thead>\\n<tr><th>hours_online_work  </th></tr>\\n</thead>\\n<tbody>\\n<tr><td>0 to 2 hours       </td></tr>\\n<tr><td>5 to 10 hours      </td></tr>\\n<tr><td>5 to 10 hours      </td></tr>\\n<tr><td>3 to 5 hours       </td></tr>\\n<tr><td>3 to 5 hours       </td></tr>\\n<tr><td>5 to 10 hours      </td></tr>\\n<tr><td>5 to 10 hours      </td></tr>\\n<tr><td>5 to 10 hours      </td></tr>\\n<tr><td>10+ hours          </td></tr>\\n<tr><td>5 to 10 hours      </td></tr>\\n<tr><td>5 to 10 hours      </td></tr>\\n<tr><td>3 to 5 hours       </td></tr>\\n<tr><td>3 to 5 hours       </td></tr>\\n<tr><td>3 to 5 hours       </td></tr>\\n<tr><td>3 to 5 hours       </td></tr>\\n</tbody>\\n</table>'"
      ]
     },
     "execution_count": 8,
     "metadata": {},
     "output_type": "execute_result"
    },
    {
     "data": {
      "image/png": "[encoded data removed]",
      "text/plain": [
       "<Figure size 432x288 with 1 Axes>"
      ]
     },
     "metadata": {
      "needs_background": "light"
     },
     "output_type": "display_data"
    }
   ],
   "source": [
    "from matplotlib import pyplot\n",
    "from tabulate import tabulate\n",
    "\n",
    "hours_outside_class_table: dict[str, list[str]] = select(final_table, [\"hours_online_work\"])\n",
    "hours_outside_class_table_shortened: dict[str, list[str]] = head(hours_outside_class_table, 15)\n",
    "hours_outside_class_list: list[str] = hours_outside_class_table[\"hours_online_work\"]\n",
    "count_hours_outside: dict[str, int] = count(hours_outside_class_list)\n",
    "\n",
    "pyplot.title(\"Frequencies of Students Hours Spent Online Working.\")\n",
    "pyplot.xlabel(\"Hours\")\n",
    "pyplot.ylabel(\"Frequencies\")\n",
    "labels: list[str] = list(count_hours_outside.keys())\n",
    "values: list[int] = list(count_hours_outside.values())\n",
    "pyplot.bar(labels, values)\n",
    "\n",
    "tabulate(hours_outside_class_table_shortened, hours_outside_class_table_shortened.keys(), 'html')"
   ]
  },
  {
   "cell_type": "markdown",
   "metadata": {},
   "source": [
    "## Conclusion\n",
    "\n",
    "In the following markdown cell, write a reflective conclusion given the analysis you performed and identify recommendations.\n",
    "\n",
    "If your analysis of the data supports your idea, state your recommendation for the change and summarize the data analysys results you found which support it. Additionally, describe any extensions or refinements to this idea which might be explored further. Finally, discuss the potential costs, trade-offs, or stakeholders who may be negatively impacted by this proposed change.\n",
    "\n",
    "If your analysis of the data is inconclusive, summarize why your data analysis results were inconclusive in the support of your idea. Additionally, describe what experimental idea implementation or additional data collection might help build more confidence in assessing your idea. Finally, discuss the potential costs, trade-offs, or stakeholders who may be negatively impacted by experimenting with your idea.\n",
    "\n",
    "Finally, if your analysis of the data does not support it, summarize your data analysis results and why it refutes your idea. Discuss the potential costs, trade-offs, or stakeholders who may be negatively impacted by this proposed change. If you disagree with the validity of the findings, describe why your idea still makes sense to implement and what alternative data would better support it. If you agree with the validity of the data analysis, describe what alternate ideas or extensions you would explore instead. "
   ]
  },
  {
   "cell_type": "markdown",
   "metadata": {},
   "source": [
    "### Part 5. Conclusion \n",
    "After the data analysis, it was found that the numbers were able to support the idea that for COMP 110, the course shold return to fully synchronous. From the first analysis in the project it was found that almost 17 percent of students would have found an increase in their preformance in the class if Tuesday's were in-person. This is around 122 students mentioning a better experience in 110. \n",
    "\n",
    "However, there can be further refinements made. When regarding the videos and out-of-class work, the data seems to support not having assigned reverse learning over the weekend and on Monday's. This comes from only 62 people out of the 108 who want synchronous classes vowing to watch extra videos outside of class if there was fully in-person class on Tuesday's. \n",
    "\n",
    "Some futher refinement to this idea can be that the class can be to not have the pre-recordeded videos be assigned, but instead, go over that on the Tuesday class in-person. This brings another effect of removing asynchronous Tuesday's, is that students' out of class online work time would decrease as they would not be spending the time watching videos online, but learning the content in-person -- as can be seen in the final graphic figure in the analysis. \n",
    "\n",
    "Lastly, with every idea, there are bound to be potential trade-off's, or groups that are negatively affected. In this case, the instructional staff would be negatively affected as they would have to prepare more for the Tuesday classes, and have a higher work load as a result. Some potential costs revolve around extra facility use and wear or other courses that were in the room when 110 would now hold lecture would have to relocate. However, there are also other positive externalities. If Tuesday classes were to be in-person, then the academic institution would benefit, as their students would be performing better and reflecting in higher ratings not only for COMP 110, but the Computer Science department as a whole. "
   ]
  }
 ],
 "metadata": {
  "interpreter": {
   "hash": "aee8b7b246df8f9039afb4144a1f6fd8d2ca17a180786b69acc140d282b71a49"
  },
  "kernelspec": {
   "display_name": "Python 3.10.2 64-bit",
   "language": "python",
   "name": "python3"
  },
  "language_info": {
   "codemirror_mode": {
    "name": "ipython",
    "version": 3
   },
   "file_extension": ".py",
   "mimetype": "text/x-python",
   "name": "python",
   "nbconvert_exporter": "python",
   "pygments_lexer": "ipython3",
   "version": "3.10.1"
  },
  "orig_nbformat": 4
 },
 "nbformat": 4,
 "nbformat_minor": 2
}
