{
 "cells": [
  {
   "cell_type": "code",
   "execution_count": 14,
   "metadata": {},
   "outputs": [
    {
     "name": "stdout",
     "output_type": "stream",
     "text": [
      "<class 'pandas.core.frame.DataFrame'>\n",
      "RangeIndex: 891 entries, 0 to 890\n",
      "Data columns (total 12 columns):\n",
      " #   Column       Non-Null Count  Dtype  \n",
      "---  ------       --------------  -----  \n",
      " 0   PassengerId  891 non-null    int64  \n",
      " 1   Survived     891 non-null    int64  \n",
      " 2   Pclass       891 non-null    int64  \n",
      " 3   Name         891 non-null    object \n",
      " 4   Sex          891 non-null    object \n",
      " 5   Age          714 non-null    float64\n",
      " 6   SibSp        891 non-null    int64  \n",
      " 7   Parch        891 non-null    int64  \n",
      " 8   Ticket       891 non-null    object \n",
      " 9   Fare         891 non-null    float64\n",
      " 10  Cabin        204 non-null    object \n",
      " 11  Embarked     889 non-null    object \n",
      "dtypes: float64(2), int64(5), object(5)\n",
      "memory usage: 83.7+ KB\n"
     ]
    }
   ],
   "source": [
    "import pandas as pd\n",
    "titanic = pd.read_csv(\"../data/titanic.csv\")\n",
    "titanic\n",
    "titanic.head(8)\n",
    "titanic.dtypes\n",
    "titanic.to_excel(\"titanic.xlsx\", sheet_name=\"passengers\", index=False)\n",
    "titanic = pd.read_excel(\"titanic.xlsx\", sheet_name=\"passengers\")\n",
    "titanic.head()\n",
    "titanic.info()\n"
   ]
  },
  {
   "cell_type": "code",
   "execution_count": 23,
   "metadata": {},
   "outputs": [
    {
     "data": {
      "text/plain": [
       "(217, 12)"
      ]
     },
     "execution_count": 23,
     "metadata": {},
     "output_type": "execute_result"
    }
   ],
   "source": [
    "titanic = pd.read_csv(\"../data/titanic.csv\")\n",
    "titanic.head()\n",
    "ages = titanic[\"Age\"]\n",
    "ages.head()\n",
    "type(titanic[\"Age\"])\n",
    "titanic[\"Age\"].shape\n",
    "age_sex = titanic[[\"Age\", \"Sex\"]]\n",
    "age_sex.head()\n",
    "type(titanic[[\"Age\", \"Sex\"]])\n",
    "titanic[[\"Age\", \"Sex\"]].shape\n",
    "above_35 = titanic[titanic[\"Age\"] > 35]\n",
    "above_35.head()\n",
    "titanic[\"Age\"] > 35\n",
    "above_35.shape\n",
    "class_23 = titanic[titanic[\"Pclass\"].isin([2, 3])]\n",
    "class_23.head()\n",
    "class_23 = titanic[(titanic[\"Pclass\"] == 2) | (titanic[\"Pclass\"] == 3)]\n",
    "class_23.head()\n",
    "age_no_na = titanic[titanic[\"Age\"].notna()]\n",
    "age_no_na.head()\n",
    "age_no_na.shape\n",
    "\n",
    "\n"
   ]
  }
 ],
 "metadata": {
  "interpreter": {
   "hash": "aee8b7b246df8f9039afb4144a1f6fd8d2ca17a180786b69acc140d282b71a49"
  },
  "kernelspec": {
   "display_name": "Python 3.10.1 64-bit",
   "language": "python",
   "name": "python3"
  },
  "language_info": {
   "codemirror_mode": {
    "name": "ipython",
    "version": 3
   },
   "file_extension": ".py",
   "mimetype": "text/x-python",
   "name": "python",
   "nbconvert_exporter": "python",
   "pygments_lexer": "ipython3",
   "version": "3.10.1"
  },
  "orig_nbformat": 4
 },
 "nbformat": 4,
 "nbformat_minor": 2
}
