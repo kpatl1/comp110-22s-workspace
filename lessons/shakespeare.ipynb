{
 "cells": [
  {
   "cell_type": "markdown",
   "metadata": {},
   "source": [
    "# Quantifying Shakespeare\n",
    "\n",
    "In this notebook we will find the frequencies with which Shakespeare's words used letters."
   ]
  },
  {
   "cell_type": "code",
   "execution_count": 13,
   "metadata": {},
   "outputs": [
    {
     "name": "stdout",
     "output_type": "stream",
     "text": [
      "114840\n"
     ]
    }
   ],
   "source": [
    "from io import TextIOWrapper\n",
    "\n",
    "def read_file(filename: str) -> list[str]:\n",
    "    \"\"\"Given the name of a file, return a list of its lines.\"\"\"\n",
    "    lines: list[str] = []\n",
    "    file: TextIOWrapper = open(filename, \"r\", encoding=\"utf8\")\n",
    "    for line in file:\n",
    "        line = line.strip()\n",
    "        line = line.lower() \n",
    "        if line != \"\":\n",
    "            lines.append(line)\n",
    "    return lines\n",
    "\n",
    "shakespeare_lines: list[str] = read_file(\"./shakespeare.txt\")\n",
    "print(len(shakespeare_lines))"
   ]
  },
  {
   "cell_type": "markdown",
   "metadata": {},
   "source": [
    "The next step of our analysis is to count the letters in the lines list one-by-one to find the frequency of use of each letter. \n"
   ]
  },
  {
   "cell_type": "code",
   "execution_count": 14,
   "metadata": {},
   "outputs": [
    {
     "name": "stdout",
     "output_type": "stream",
     "text": [
      "{'t': 329775, 'h': 236868, 'i': 253990, 's': 248989, 'e': 447204, 'x': 5294, 'f': 80516, 'l': 170019, 'p': 58464, 'r': 237864, 'n': 243262, 'd': 149462, 'b': 61956, 'y': 94370, 'o': 314600, 'j': 4779, 'c': 88185, 'g': 68199, 'u': 128947, 'a': 289150, 'w': 89390, 'm': 111452, 'k': 35408, 'v': 37569, 'z': 1631, 'q': 3582}\n"
     ]
    }
   ],
   "source": [
    "# Goal: Define a functon named 'tally'\n",
    "# Give the function (as params) a dictionary reference (key: str, value: int) and a key\n",
    "# If the key is in the dictionary, increase value by 1\n",
    "# Otherwise, set key's value to 1\n",
    "# It is a procedure and returns None\n",
    "\n",
    "def tally(counts: dict[str, int], key: str) -> None:\n",
    "    \"\"\"Mutate counts to increment a key by 1 if it exists, or initalize to 1.\"\"\"\n",
    "    if key in counts:\n",
    "        counts[key] += 1\n",
    "    else:\n",
    "        counts[key] = 1\n",
    "\n",
    "\n",
    "def count_letters(lines: list[str]) -> dict[str, int]:\n",
    "    \"\"\"Count frequencies of all letters in a list of strings.\"\"\"\n",
    "    counts: dict[str, int] = {}\n",
    "    # Loop through all lines\n",
    "    # For each line loop through all characters \n",
    "    # Tally character into the counts dictionary\n",
    "    # Challenge: tally only letters! No numbers or punctuation.\n",
    "    for line in lines:\n",
    "        for char in line:\n",
    "            if char.isalpha():\n",
    "                tally(counts, char)\n",
    "    return counts\n",
    "\n",
    "shakespeare_letters: dict[str, int] = count_letters(shakespeare_lines)\n",
    "print(shakespeare_letters)\n",
    "\n"
   ]
  },
  {
   "cell_type": "markdown",
   "metadata": {},
   "source": [
    "Let's create a visualization of this data with a bar chart."
   ]
  },
  {
   "cell_type": "code",
   "execution_count": 23,
   "metadata": {},
   "outputs": [
    {
     "name": "stdout",
     "output_type": "stream",
     "text": [
      "{'a': 289150, 'b': 61956, 'c': 88185, 'd': 149462, 'e': 447204, 'f': 80516, 'g': 68199, 'h': 236868, 'i': 253990, 'j': 4779, 'k': 35408, 'l': 170019, 'm': 111452, 'n': 243262, 'o': 314600, 'p': 58464, 'q': 3582, 'r': 237864, 's': 248989, 't': 329775, 'u': 128947, 'v': 37569, 'w': 89390, 'x': 5294, 'y': 94370, 'z': 1631}\n"
     ]
    }
   ],
   "source": [
    "items_in_dict: list[tuple[str, int]] = list(shakespeare_letters.items())\n",
    "items_in_dict = sorted(items_in_dict)\n",
    "sorted_letters: dict[str, int] = dict(items_in_dict)\n",
    "print(sorted_letters)"
   ]
  },
  {
   "cell_type": "code",
   "execution_count": 24,
   "metadata": {},
   "outputs": [
    {
     "data": {
      "text/plain": [
       "<BarContainer object of 26 artists>"
      ]
     },
     "execution_count": 24,
     "metadata": {},
     "output_type": "execute_result"
    },
    {
     "data": {
      "image/png": "[encoded data removed]",
      "text/plain": [
       "<Figure size 432x288 with 1 Axes>"
      ]
     },
     "metadata": {
      "needs_background": "light"
     },
     "output_type": "display_data"
    }
   ],
   "source": [
    "from matplotlib import pyplot\n",
    "\n",
    "\n",
    "pyplot.title(\"Frequencies of Letter\")\n",
    "pyplot.xlabel(\"Letters\")\n",
    "pyplot.ylabel(\"Frequencies\")\n",
    "labels: list[str] = list(sorted_letters.keys())\n",
    "values: list[int] = list(sorted_letters.values())\n",
    "pyplot.bar(labels, values)"
   ]
  }
 ],
 "metadata": {
  "interpreter": {
   "hash": "aee8b7b246df8f9039afb4144a1f6fd8d2ca17a180786b69acc140d282b71a49"
  },
  "kernelspec": {
   "display_name": "Python 3.10.1 64-bit",
   "language": "python",
   "name": "python3"
  },
  "language_info": {
   "codemirror_mode": {
    "name": "ipython",
    "version": 3
   },
   "file_extension": ".py",
   "mimetype": "text/x-python",
   "name": "python",
   "nbconvert_exporter": "python",
   "pygments_lexer": "ipython3",
   "version": "3.10.1"
  },
  "orig_nbformat": 4
 },
 "nbformat": 4,
 "nbformat_minor": 2
}
